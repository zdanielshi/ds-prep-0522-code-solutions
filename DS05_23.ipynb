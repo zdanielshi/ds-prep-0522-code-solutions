{
  "nbformat": 4,
  "nbformat_minor": 0,
  "metadata": {
    "colab": {
      "name": "DS05-23.ipynb",
      "provenance": [],
      "authorship_tag": "ABX9TyOr1tXOgzOmbc0T0NSHlY6n",
      "include_colab_link": true
    },
    "kernelspec": {
      "name": "python3",
      "display_name": "Python 3"
    },
    "language_info": {
      "name": "python"
    }
  },
  "cells": [
    {
      "cell_type": "markdown",
      "metadata": {
        "id": "view-in-github",
        "colab_type": "text"
      },
      "source": [
        "<a href=\"https://colab.research.google.com/github/zdanielshi/ds-prep-0522-code-solutions/blob/main/DS05_23.ipynb\" target=\"_parent\"><img src=\"https://colab.research.google.com/assets/colab-badge.svg\" alt=\"Open In Colab\"/></a>"
      ]
    },
    {
      "cell_type": "markdown",
      "source": [
        "Exercise #1\n",
        "\n",
        "Write a function to create two lists, one of the alphabet variable below and one for the index of the alphabet variable\n",
        "\n",
        "Join the two lists together and return a list of tuples\n",
        "\n",
        "L = ‘abcdefghijklmnopqrstuvwxyz’\n",
        "\n",
        "Example Output = [(1, ‘a’), (2, ‘b’), (3, ‘c’),.........]\n"
      ],
      "metadata": {
        "id": "kZqEmP1P9Seh"
      }
    },
    {
      "cell_type": "code",
      "execution_count": 1,
      "metadata": {
        "id": "ToZlOvAa8-l4",
        "colab": {
          "base_uri": "https://localhost:8080/"
        },
        "outputId": "8025c219-1661-41cd-8f85-5ab1c5d4ac7b"
      },
      "outputs": [
        {
          "output_type": "execute_result",
          "data": {
            "text/plain": [
              "[(1, 'a'),\n",
              " (2, 'b'),\n",
              " (3, 'c'),\n",
              " (4, 'd'),\n",
              " (5, 'e'),\n",
              " (6, 'f'),\n",
              " (7, 'g'),\n",
              " (8, 'h'),\n",
              " (9, 'i'),\n",
              " (10, 'j'),\n",
              " (11, 'k'),\n",
              " (12, 'l'),\n",
              " (13, 'm'),\n",
              " (14, 'n'),\n",
              " (15, 'o'),\n",
              " (16, 'p'),\n",
              " (17, 'q'),\n",
              " (18, 'r'),\n",
              " (19, 's'),\n",
              " (20, 't'),\n",
              " (21, 'u'),\n",
              " (22, 'v'),\n",
              " (23, 'w'),\n",
              " (24, 'x'),\n",
              " (25, 'y'),\n",
              " (26, 'z')]"
            ]
          },
          "metadata": {},
          "execution_count": 1
        }
      ],
      "source": [
        "def combine_tuple(var):\n",
        "  index_num = []\n",
        "  alpha = []\n",
        "  for i, v in enumerate(var):\n",
        "    index_num.append(i+1)\n",
        "    alpha.append(v)\n",
        "  output_list = zip(index_num, alpha)\n",
        "  return list(output_list)\n",
        "\n",
        "combine_tuple(\"abcdefghijklmnopqrstuvwxyz\")"
      ]
    },
    {
      "cell_type": "markdown",
      "source": [
        "Exercise #2\n",
        "\n",
        "Write a function to create a dictionary of binary values of decimal of 0 to 15\n",
        "\n",
        "The decimal number should be the key and the binary number should be the value \n",
        "\n",
        "Example Output: {“0”:0000, “1”:0001, “2”:0010,.....}"
      ],
      "metadata": {
        "id": "VpI0m3UmEz69"
      }
    },
    {
      "cell_type": "code",
      "source": [
        "for x in range(6):\n",
        "  print(x)"
      ],
      "metadata": {
        "colab": {
          "base_uri": "https://localhost:8080/"
        },
        "id": "AR3baGdqH7gV",
        "outputId": "29f08005-5b80-42f8-b8c1-908463430da2"
      },
      "execution_count": 2,
      "outputs": [
        {
          "output_type": "stream",
          "name": "stdout",
          "text": [
            "0\n",
            "1\n",
            "2\n",
            "3\n",
            "4\n",
            "5\n"
          ]
        }
      ]
    },
    {
      "cell_type": "code",
      "source": [
        "def binary_list(range_of_numbers): # define the function\n",
        "  dictionary = {} # intialize the dictionary\n",
        "  for x in range(range_of_numbers): # iterate through the dictionary\n",
        "    value = bin(x)[2:] # keys are the index positions\n",
        "    dictionary[str(x)] = value # convert key values to binary, make those the values, slice out the 0b\n",
        "  return dictionary # return the dictionary\n",
        "\n",
        "binary_list(15)"
      ],
      "metadata": {
        "id": "aLBq9BArGie8",
        "colab": {
          "base_uri": "https://localhost:8080/"
        },
        "outputId": "98f6504c-d760-4b15-e9cc-7676e4d60e00"
      },
      "execution_count": 8,
      "outputs": [
        {
          "output_type": "execute_result",
          "data": {
            "text/plain": [
              "{'0': '0',\n",
              " '1': '1',\n",
              " '10': '1010',\n",
              " '11': '1011',\n",
              " '12': '1100',\n",
              " '13': '1101',\n",
              " '14': '1110',\n",
              " '2': '10',\n",
              " '3': '11',\n",
              " '4': '100',\n",
              " '5': '101',\n",
              " '6': '110',\n",
              " '7': '111',\n",
              " '8': '1000',\n",
              " '9': '1001'}"
            ]
          },
          "metadata": {},
          "execution_count": 8
        }
      ]
    },
    {
      "cell_type": "markdown",
      "source": [
        "Exercise #3\n",
        "1. Write a function named \"BracketMatcher\" that takes one parameter, a string named \"s\" (defined below)\n",
        "2. The function should return 1 if the brackets are correctly matched and each bracket is accounted for and 0 if they are not\n",
        "s = '(a((kl(mns)t)uvwz)'\n",
        "\n",
        "Example Output: 0\n",
        "\n"
      ],
      "metadata": {
        "id": "FhwvVVIfLEmQ"
      }
    },
    {
      "cell_type": "code",
      "source": [
        "def BracketMatcher(variable): # define the function\n",
        "  if variable.count(\"(\") == variable.count(\")\"): # if # of brackets match\n",
        "    print(1)# print 1\n",
        "  else: # else\n",
        "    print(0) # print 0\n",
        "\n",
        "s = '(a((kl(mns)t)uvwz)'#unmatched\n",
        "t = '((()))' #matched\n",
        "u = '()())' #unmatched\n",
        "v = '((()' #unmatched\n",
        "x = '((()))' #unmatched\n",
        "\n",
        "BracketMatcher(s)\n",
        "BracketMatcher(t)\n",
        "BracketMatcher(u)\n",
        "BracketMatcher(v)\n",
        "BracketMatcher(x)"
      ],
      "metadata": {
        "colab": {
          "base_uri": "https://localhost:8080/"
        },
        "id": "xHd9ADo0LQYB",
        "outputId": "75ac0de7-9d21-4b18-a844-43473b839de1"
      },
      "execution_count": 11,
      "outputs": [
        {
          "output_type": "stream",
          "name": "stdout",
          "text": [
            "0\n",
            "1\n",
            "0\n",
            "0\n",
            "1\n"
          ]
        }
      ]
    },
    {
      "cell_type": "markdown",
      "source": [
        "Exercise #4\n",
        "1. Write a function named \"is_anagram\" that takes two parameters, a string named \"str1\" and a string named \"str2\"\n",
        "2. The function should return True if the words are anagrams of one another, and False if they are not\n",
        "str1 = 'cautioned'\t\t\t\t\tstr1 = 'cat'\n",
        "str2 = 'education'\t\t\t\t\tstr2 = 'rat'\n",
        "Example Output: True\t\t\t\tExample Output: False"
      ],
      "metadata": {
        "id": "HF6xOiL3M971"
      }
    },
    {
      "cell_type": "code",
      "source": [
        "def is_anagram(str1, str2): # def the function with two inputs\n",
        "  sort_1 = sorted(str1) # sort the first string\n",
        "  sort_2 = sorted(str2) # sort the second string\n",
        "  if sort_1 == sort_2: # if the two strings are equal\n",
        "    print(\"True\") # print \"True\"\n",
        "  else: # else\n",
        "    print(\"False\") # print \"False\" \n",
        "\n",
        "is_anagram('cautioned', 'education')\n",
        "is_anagram('cat', 'rat')"
      ],
      "metadata": {
        "colab": {
          "base_uri": "https://localhost:8080/"
        },
        "id": "PNxXPI6YNE8S",
        "outputId": "75642091-f67d-4d73-c2bf-6b9b82ed88c3"
      },
      "execution_count": 20,
      "outputs": [
        {
          "output_type": "stream",
          "name": "stdout",
          "text": [
            "True\n",
            "False\n"
          ]
        }
      ]
    }
  ]
}