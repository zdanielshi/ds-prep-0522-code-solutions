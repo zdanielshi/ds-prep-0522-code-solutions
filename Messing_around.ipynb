{
  "nbformat": 4,
  "nbformat_minor": 0,
  "metadata": {
    "colab": {
      "name": "Messing around.ipynb",
      "provenance": [],
      "authorship_tag": "ABX9TyNSO9I8P9j2wej2t0YH5H6c",
      "include_colab_link": true
    },
    "kernelspec": {
      "name": "python3",
      "display_name": "Python 3"
    },
    "language_info": {
      "name": "python"
    }
  },
  "cells": [
    {
      "cell_type": "markdown",
      "metadata": {
        "id": "view-in-github",
        "colab_type": "text"
      },
      "source": [
        "<a href=\"https://colab.research.google.com/github/zdanielshi/ds-prep-0522-code-solutions/blob/main/Messing_around.ipynb\" target=\"_parent\"><img src=\"https://colab.research.google.com/assets/colab-badge.svg\" alt=\"Open In Colab\"/></a>"
      ]
    },
    {
      "cell_type": "markdown",
      "source": [
        "Given a year, determine whether it is a leap year. If it is a leap year, return the Boolean true, otherwise return False. In the Gregorian calendar, three conditions are used to identify leap years:\n",
        "\n",
        "*   The year can be evenly divided by 4, is a leap year, unless:\n",
        "*   The year can be evenly divided by 100, it is NOT a leap year, unless:\n",
        "  *   The year is also evenly divisible by 400. Then it is a leap year.\n"
      ],
      "metadata": {
        "id": "tu5Uw7TgGmX7"
      }
    },
    {
      "cell_type": "code",
      "source": [
        "def leap_year_check(value):\n",
        "  if value % 400 == 0 or value % 100 !=0 and value % 4 == 0:\n",
        "    leap_year_result = str(value) + ' is a leap year.'\n",
        "  else:\n",
        "    leap_year_result = str(value) + ' is NOT a leap year.'\n",
        "  return leap_year_result\n",
        "\n",
        "print(leap_year_check(1972)) # is a leap year\n",
        "print(leap_year_check(1948)) # is a leap year\n",
        "print(leap_year_check(1991))\n",
        "print(leap_year_check(1995))\n",
        "print(leap_year_check(1985))\n",
        "print(leap_year_check(2000)) # is a leap year"
      ],
      "metadata": {
        "colab": {
          "base_uri": "https://localhost:8080/"
        },
        "id": "m70bPVpeHGCY",
        "outputId": "0c2d4c9c-e347-416f-8f1d-cf39f9ac8b0d"
      },
      "execution_count": 14,
      "outputs": [
        {
          "output_type": "stream",
          "name": "stdout",
          "text": [
            "1972 is a leap year.\n",
            "1948 is a leap year.\n",
            "1991 is NOT a leap year.\n",
            "1995 is NOT a leap year.\n",
            "1985 is NOT a leap year.\n",
            "2000 is a leap year.\n"
          ]
        }
      ]
    },
    {
      "cell_type": "markdown",
      "source": [
        "Write a function that takes two inputs and adds the two numbers together and returns the result. Use Try / Except to throw an exception if users input an incorrect value."
      ],
      "metadata": {
        "id": "LqeahHECKhpS"
      }
    },
    {
      "cell_type": "code",
      "source": [
        "x = input(\"Enter a number\")\n",
        "y = input(\"Enter a number\")\n",
        "\n",
        "try:\n",
        "  int_x = int(x)\n",
        "  int_y = int(y)\n",
        "\n",
        "  print(\"x is\", x)\n",
        "  print(\"y is\", y)\n",
        "\n",
        "  z = int_x + int_y\n",
        "\n",
        "  print(z)\n",
        "except:\n",
        "  print(\"An error occured.\")"
      ],
      "metadata": {
        "colab": {
          "base_uri": "https://localhost:8080/"
        },
        "id": "h6KZ95JvKxv6",
        "outputId": "4a41207a-16d2-4259-9eb2-a858a7545e4d"
      },
      "execution_count": 29,
      "outputs": [
        {
          "output_type": "stream",
          "name": "stdout",
          "text": [
            "Enter a numbera\n",
            "Enter a numberb\n",
            "An error occured.\n"
          ]
        }
      ]
    }
  ]
}