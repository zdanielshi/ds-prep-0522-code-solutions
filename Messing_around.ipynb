{
  "nbformat": 4,
  "nbformat_minor": 0,
  "metadata": {
    "colab": {
      "name": "Messing around.ipynb",
      "provenance": [],
      "authorship_tag": "ABX9TyNn/pK5eaTO8MP2wZM+vHlR",
      "include_colab_link": true
    },
    "kernelspec": {
      "name": "python3",
      "display_name": "Python 3"
    },
    "language_info": {
      "name": "python"
    }
  },
  "cells": [
    {
      "cell_type": "markdown",
      "metadata": {
        "id": "view-in-github",
        "colab_type": "text"
      },
      "source": [
        "<a href=\"https://colab.research.google.com/github/zdanielshi/ds-prep-0522-code-solutions/blob/main/Messing_around.ipynb\" target=\"_parent\"><img src=\"https://colab.research.google.com/assets/colab-badge.svg\" alt=\"Open In Colab\"/></a>"
      ]
    },
    {
      "cell_type": "markdown",
      "source": [
        "Given a year, determine whether it is a leap year. If it is a leap year, return the Boolean true, otherwise return False. In the Gregorian calendar, three conditions are used to identify leap years:\n",
        "\n",
        "*   The year can be evenly divided by 4, is a leap year, unless:\n",
        "*   The year can be evenly divided by 100, it is NOT a leap year, unless:\n",
        "  *   The year is also evenly divisible by 400. Then it is a leap year.\n"
      ],
      "metadata": {
        "id": "tu5Uw7TgGmX7"
      }
    },
    {
      "cell_type": "code",
      "source": [
        "def leap_year_check(value):\n",
        "  leap_year_result = ''\n",
        "  if value % 400 == 0 or value % 100 !=0 and value % 4 == 0:\n",
        "    leap_year_result = str(value) + ' is a leap year.'\n",
        "  else:\n",
        "    leap_year_result = str(value) + ' is NOT a leap year.'\n",
        "  return leap_year_result\n",
        "\n",
        "print(leap_year_check(1972)) # is a leap year\n",
        "print(leap_year_check(1948)) # is a leap year\n",
        "print(leap_year_check(1991))\n",
        "print(leap_year_check(1995))\n",
        "print(leap_year_check(1985))\n",
        "print(leap_year_check(2000)) # is a leap year"
      ],
      "metadata": {
        "colab": {
          "base_uri": "https://localhost:8080/"
        },
        "id": "m70bPVpeHGCY",
        "outputId": "d7dd9ffa-0626-4f48-e09f-9008092f0128"
      },
      "execution_count": 13,
      "outputs": [
        {
          "output_type": "stream",
          "name": "stdout",
          "text": [
            "1972 is a leap year.\n",
            "1948 is a leap year.\n",
            "1991 is NOT a leap year.\n",
            "1995 is NOT a leap year.\n",
            "1985 is NOT a leap year.\n",
            "2000 is a leap year.\n"
          ]
        }
      ]
    },
    {
      "cell_type": "code",
      "source": [
        "1 == 3 and 3 == 1"
      ],
      "metadata": {
        "colab": {
          "base_uri": "https://localhost:8080/"
        },
        "id": "QWANGPhOIKPk",
        "outputId": "b74b7ee3-e43e-4815-d9fd-3b3d8648872a"
      },
      "execution_count": 4,
      "outputs": [
        {
          "output_type": "execute_result",
          "data": {
            "text/plain": [
              "False"
            ]
          },
          "metadata": {},
          "execution_count": 4
        }
      ]
    }
  ]
}